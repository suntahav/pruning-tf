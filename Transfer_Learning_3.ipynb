{
  "nbformat": 4,
  "nbformat_minor": 0,
  "metadata": {
    "colab": {
      "provenance": [],
      "collapsed_sections": []
    },
    "kernelspec": {
      "name": "python3",
      "display_name": "Python 3"
    },
    "language_info": {
      "name": "python"
    },
    "accelerator": "GPU",
    "gpuClass": "standard"
  },
  "cells": [
    {
      "cell_type": "code",
      "execution_count": 1,
      "metadata": {
        "id": "7ZMX98sXZtij"
      },
      "outputs": [],
      "source": [
        "# Pandas and Numpy for data structures and util fucntions\n",
        "import scipy as sp\n",
        "import numpy as np\n",
        "import pandas as pd\n",
        "from numpy.random import rand\n",
        "pd.options.display.max_colwidth = 600\n",
        "\n",
        "# Scikit Imports\n",
        "from sklearn import preprocessing\n",
        "from sklearn.metrics import roc_curve, auc, precision_recall_curve\n",
        "from sklearn.model_selection import train_test_split\n",
        "\n",
        "# import cnn_utils as utils\n",
        "# from model_evaluation_utils import get_metrics\n",
        "\n",
        "# Matplot Imports\n",
        "import matplotlib.pyplot as plt\n",
        "params = {'legend.fontsize': 'x-large',\n",
        "          'figure.figsize': (15, 5),\n",
        "          'axes.labelsize': 'x-large',\n",
        "          'axes.titlesize':'x-large',\n",
        "          'xtick.labelsize':'x-large',\n",
        "          'ytick.labelsize':'x-large'}\n",
        "\n",
        "plt.rcParams.update(params)\n",
        "%matplotlib inline\n",
        "\n",
        "# pandas display data frames as tables\n",
        "from IPython.display import display, HTML\n",
        "\n",
        "import warnings\n",
        "warnings.filterwarnings('ignore')\n",
        "import tensorflow as tf"
      ]
    },
    {
      "cell_type": "code",
      "source": [
        "from tensorflow.keras import callbacks\n",
        "from tensorflow.keras import optimizers\n",
        "from tensorflow.keras.datasets import cifar10\n",
        "from tensorflow.keras import Model\n",
        "from tensorflow.keras.applications.resnet import ResNet50\n",
        "from tensorflow.keras.layers import Dropout, Flatten, Dense, GlobalAveragePooling2D,BatchNormalization, Resizing\n",
        "from tensorflow.keras.preprocessing.image import ImageDataGenerator\n",
        "from tensorflow.keras.utils import to_categorical"
      ],
      "metadata": {
        "id": "VcoRa1oGZ8yP"
      },
      "execution_count": 2,
      "outputs": []
    },
    {
      "cell_type": "code",
      "source": [
        "import cv2"
      ],
      "metadata": {
        "id": "lDeIrLG4b5YJ"
      },
      "execution_count": 3,
      "outputs": []
    },
    {
      "cell_type": "code",
      "source": [
        "BATCH_SIZE = 32\n",
        "EPOCHS = 5\n",
        "NUM_CLASSES = 10\n",
        "LEARNING_RATE = 1e-4\n",
        "MOMENTUM = 0.9"
      ],
      "metadata": {
        "id": "y3gOsg67aWjW"
      },
      "execution_count": 4,
      "outputs": []
    },
    {
      "cell_type": "code",
      "source": [
        "(X_train, y_train), (X_test, y_test) = cifar10.load_data()"
      ],
      "metadata": {
        "id": "L28GhUu3bXgn"
      },
      "execution_count": 5,
      "outputs": []
    },
    {
      "cell_type": "code",
      "source": [
        "X_train, X_val, y_train, y_val = train_test_split(X_train, \n",
        "                                                  y_train, \n",
        "                                                  test_size=0.15, \n",
        "                                                  stratify=np.array(y_train), \n",
        "                                                  random_state=42)"
      ],
      "metadata": {
        "id": "34F2iEiBbaYa"
      },
      "execution_count": 6,
      "outputs": []
    },
    {
      "cell_type": "code",
      "source": [
        "Y_train = to_categorical(y_train, NUM_CLASSES)\n",
        "Y_val = to_categorical(y_val, NUM_CLASSES)\n",
        "Y_test = to_categorical(y_test, NUM_CLASSES)"
      ],
      "metadata": {
        "id": "MexKFTPAbe6T"
      },
      "execution_count": 7,
      "outputs": []
    },
    {
      "cell_type": "code",
      "source": [
        "img_size = 96\n",
        "X_train = np.array([cv2.resize(x, (img_size, img_size), interpolation = cv2.INTER_AREA) for x in X_train])\n",
        "X_val = np.array([cv2.resize(x, (img_size, img_size), interpolation = cv2.INTER_AREA) for x in X_val])\n",
        "X_test = np.array([cv2.resize(x, (img_size, img_size), interpolation = cv2.INTER_AREA) for x in X_test])"
      ],
      "metadata": {
        "id": "I0whD4jhbjgJ"
      },
      "execution_count": 8,
      "outputs": []
    },
    {
      "cell_type": "code",
      "source": [
        "base_model = tf.keras.applications.MobileNetV2(input_shape=(img_size, img_size, 3),\n",
        "                                               include_top=False,\n",
        "                                               weights='imagenet', pooling='avg')"
      ],
      "metadata": {
        "id": "k6RP30aybqGW"
      },
      "execution_count": 9,
      "outputs": []
    },
    {
      "cell_type": "code",
      "source": [
        "base_model.trainable = True"
      ],
      "metadata": {
        "id": "G11p38Kled9E"
      },
      "execution_count": 10,
      "outputs": []
    },
    {
      "cell_type": "code",
      "source": [
        "inp = tf.keras.layers.Input(shape=(img_size,img_size,3))"
      ],
      "metadata": {
        "id": "pofUYnNiezqU"
      },
      "execution_count": 9,
      "outputs": []
    },
    {
      "cell_type": "code",
      "source": [
        "# resized = Resizing(224,224)(inp)"
      ],
      "metadata": {
        "id": "Vtx0-vvTfA6s"
      },
      "execution_count": 10,
      "outputs": []
    },
    {
      "cell_type": "code",
      "source": [
        "x = base_model(inp)\n",
        "x = Dropout(0.6)(x)\n",
        "pred = Dense(NUM_CLASSES, activation='softmax')(x)\n",
        "model = Model(inp, pred)"
      ],
      "metadata": {
        "id": "UiKEog-4fQd2"
      },
      "execution_count": 13,
      "outputs": []
    },
    {
      "cell_type": "code",
      "source": [
        "model.summary()"
      ],
      "metadata": {
        "colab": {
          "base_uri": "https://localhost:8080/"
        },
        "id": "8d9Lh1KkffBj",
        "outputId": "58b25a15-cb86-4425-eb92-8397bcb84c8e"
      },
      "execution_count": 14,
      "outputs": [
        {
          "output_type": "stream",
          "name": "stdout",
          "text": [
            "Model: \"model\"\n",
            "_________________________________________________________________\n",
            " Layer (type)                Output Shape              Param #   \n",
            "=================================================================\n",
            " input_2 (InputLayer)        [(None, 96, 96, 3)]       0         \n",
            "                                                                 \n",
            " mobilenetv2_1.00_96 (Functi  (None, 1280)             2257984   \n",
            " onal)                                                           \n",
            "                                                                 \n",
            " dropout (Dropout)           (None, 1280)              0         \n",
            "                                                                 \n",
            " dense (Dense)               (None, 10)                12810     \n",
            "                                                                 \n",
            "=================================================================\n",
            "Total params: 2,270,794\n",
            "Trainable params: 2,236,682\n",
            "Non-trainable params: 34,112\n",
            "_________________________________________________________________\n"
          ]
        }
      ]
    },
    {
      "cell_type": "code",
      "source": [
        "model.compile(loss='categorical_crossentropy',\n",
        "              optimizer=optimizers.Adam(lr=LEARNING_RATE),\n",
        "              metrics=['accuracy'])"
      ],
      "metadata": {
        "id": "wfK5TGDifhLi"
      },
      "execution_count": 15,
      "outputs": []
    },
    {
      "cell_type": "code",
      "source": [
        "train_datagen = ImageDataGenerator(\n",
        "    rescale=1. / 255,\n",
        "    horizontal_flip=False)"
      ],
      "metadata": {
        "id": "Xb4E4MYofr_e"
      },
      "execution_count": 9,
      "outputs": []
    },
    {
      "cell_type": "code",
      "source": [
        "train_datagen.fit(X_train)\n",
        "train_generator = train_datagen.flow(X_train,\n",
        "                                     Y_train, \n",
        "                                     batch_size=BATCH_SIZE)"
      ],
      "metadata": {
        "id": "bUqbYm-Wfv77"
      },
      "execution_count": 10,
      "outputs": []
    },
    {
      "cell_type": "code",
      "source": [
        "val_datagen = ImageDataGenerator(rescale=1. / 255,\n",
        "    horizontal_flip=False)\n",
        "\n",
        "val_datagen.fit(X_val)\n",
        "val_generator = val_datagen.flow(X_val,\n",
        "                                 Y_val,\n",
        "                                 batch_size=BATCH_SIZE)"
      ],
      "metadata": {
        "id": "4Ci2VLk_fx2-"
      },
      "execution_count": 11,
      "outputs": []
    },
    {
      "cell_type": "code",
      "source": [
        "train_steps_per_epoch = X_train.shape[0] // BATCH_SIZE\n",
        "val_steps_per_epoch = X_val.shape[0] // BATCH_SIZE\n",
        "\n",
        "history = model.fit_generator(train_generator,\n",
        "                              steps_per_epoch=train_steps_per_epoch,\n",
        "                              validation_data=val_generator,\n",
        "                              validation_steps=val_steps_per_epoch,\n",
        "                              epochs=EPOCHS)\n"
      ],
      "metadata": {
        "colab": {
          "base_uri": "https://localhost:8080/"
        },
        "id": "HgsmH8fFfz-2",
        "outputId": "63054e5f-a9d2-44d2-dccb-83638a9d55b0"
      },
      "execution_count": 19,
      "outputs": [
        {
          "output_type": "stream",
          "name": "stdout",
          "text": [
            "Epoch 1/5\n",
            "1328/1328 [==============================] - 82s 49ms/step - loss: 0.6541 - accuracy: 0.7957 - val_loss: 0.5467 - val_accuracy: 0.8288\n",
            "Epoch 2/5\n",
            "1328/1328 [==============================] - 61s 46ms/step - loss: 0.2853 - accuracy: 0.9046 - val_loss: 0.3406 - val_accuracy: 0.8925\n",
            "Epoch 3/5\n",
            "1328/1328 [==============================] - 64s 48ms/step - loss: 0.1831 - accuracy: 0.9379 - val_loss: 0.2704 - val_accuracy: 0.9184\n",
            "Epoch 4/5\n",
            "1328/1328 [==============================] - 62s 47ms/step - loss: 0.1341 - accuracy: 0.9537 - val_loss: 0.2574 - val_accuracy: 0.9287\n",
            "Epoch 5/5\n",
            "1328/1328 [==============================] - 64s 48ms/step - loss: 0.1047 - accuracy: 0.9642 - val_loss: 0.3682 - val_accuracy: 0.9044\n"
          ]
        }
      ]
    },
    {
      "cell_type": "code",
      "source": [
        "model.save('mobv2_v4.h5')"
      ],
      "metadata": {
        "id": "0zd59gSGuWoE"
      },
      "execution_count": 20,
      "outputs": []
    },
    {
      "cell_type": "code",
      "source": [
        "f, (ax1, ax2) = plt.subplots(1, 2, figsize=(15, 5))\n",
        "t = f.suptitle('Deep Neural Net Performance', fontsize=12)\n",
        "f.subplots_adjust(top=0.85, wspace=0.3)\n",
        "\n",
        "epochs = list(range(1,EPOCHS+1))\n",
        "ax1.plot(epochs, history.history['accuracy'], label='Train Accuracy')\n",
        "ax1.plot(epochs, history.history['val_accuracy'], label='Validation Accuracy')\n",
        "ax1.set_xticks(epochs)\n",
        "ax1.set_ylabel('Accuracy Value')\n",
        "ax1.set_xlabel('Epoch')\n",
        "ax1.set_title('Accuracy')\n",
        "l1 = ax1.legend(loc=\"best\")\n",
        "\n",
        "ax2.plot(epochs, history.history['loss'], label='Train Loss')\n",
        "ax2.plot(epochs, history.history['val_loss'], label='Validation Loss')\n",
        "ax2.set_xticks(epochs)\n",
        "ax2.set_ylabel('Loss Value')\n",
        "ax2.set_xlabel('Epoch')\n",
        "ax2.set_title('Loss')\n",
        "l2 = ax2.legend(loc=\"best\")"
      ],
      "metadata": {
        "colab": {
          "base_uri": "https://localhost:8080/",
          "height": 378
        },
        "id": "TDSY-S_vf3ZO",
        "outputId": "86b68f31-2d48-4f0f-f5c5-41f46ae3e6f2"
      },
      "execution_count": 21,
      "outputs": [
        {
          "output_type": "display_data",
          "data": {
            "text/plain": [
              "<Figure size 1080x360 with 2 Axes>"
            ],
            "image/png": "[encoded data removed]"
          },
          "metadata": {
            "needs_background": "light"
          }
        }
      ]
    },
    {
      "cell_type": "code",
      "source": [
        "predictions = model.predict(X_test/255.)"
      ],
      "metadata": {
        "id": "DKZjko9zt3ey"
      },
      "execution_count": 10,
      "outputs": []
    },
    {
      "cell_type": "code",
      "source": [
        "from sklearn import metrics\n",
        "import numpy as np\n",
        "import pandas as pd\n",
        "import matplotlib.pyplot as plt\n",
        "from sklearn.preprocessing import LabelEncoder\n",
        "from sklearn.base import clone\n",
        "from sklearn.preprocessing import label_binarize\n",
        "from scipy import interp\n",
        "from sklearn.metrics import roc_curve, auc \n",
        "\n",
        "\n",
        "def get_metrics(true_labels, predicted_labels):\n",
        "    \n",
        "    print('Accuracy:', np.round(\n",
        "                        metrics.accuracy_score(true_labels, \n",
        "                                               predicted_labels),\n",
        "                        4))\n",
        "    print('Precision:', np.round(\n",
        "                        metrics.precision_score(true_labels, \n",
        "                                               predicted_labels,\n",
        "                                               average='weighted'),\n",
        "                        4))\n",
        "    print('Recall:', np.round(\n",
        "                        metrics.recall_score(true_labels, \n",
        "                                               predicted_labels,\n",
        "                                               average='weighted'),\n",
        "                        4))\n",
        "    print('F1 Score:', np.round(\n",
        "                        metrics.f1_score(true_labels, \n",
        "                                               predicted_labels,\n",
        "                                               average='weighted'),\n",
        "                        4))"
      ],
      "metadata": {
        "id": "ZR4-ALxCt7U4"
      },
      "execution_count": 11,
      "outputs": []
    },
    {
      "cell_type": "code",
      "source": [
        "test_labels = list(y_test.squeeze())\n",
        "predictions = list(predictions.argmax(axis=1))"
      ],
      "metadata": {
        "id": "S-pbVH1ou_-w"
      },
      "execution_count": 12,
      "outputs": []
    },
    {
      "cell_type": "code",
      "source": [
        "get_metrics(true_labels=y_test, \n",
        "                predicted_labels=predictions)"
      ],
      "metadata": {
        "colab": {
          "base_uri": "https://localhost:8080/"
        },
        "id": "TdWW22w9u9ME",
        "outputId": "dd516cfb-75a9-4f84-f1e9-6aaedb23bfbf"
      },
      "execution_count": 13,
      "outputs": [
        {
          "output_type": "stream",
          "name": "stdout",
          "text": [
            "Accuracy: 0.9005\n",
            "Precision: 0.9075\n",
            "Recall: 0.9005\n",
            "F1 Score: 0.9007\n"
          ]
        }
      ]
    },
    {
      "cell_type": "code",
      "source": [
        "model = tf.keras.models.load_model('mobv2_v4.h5')"
      ],
      "metadata": {
        "id": "3Mf5ulKZerdY"
      },
      "execution_count": 12,
      "outputs": []
    },
    {
      "cell_type": "code",
      "source": [
        "\n",
        "predictions = model.predict(X_test/255.)\n",
        "test_labels = list(y_test.squeeze())\n",
        "predictions = list(predictions.argmax(axis=1))\n",
        "get_metrics(true_labels=y_test, \n",
        "                predicted_labels=predictions)"
      ],
      "metadata": {
        "id": "be0wP3QvvI0q",
        "colab": {
          "base_uri": "https://localhost:8080/"
        },
        "outputId": "eb6eecfe-095e-4170-b02c-f792f7cdb5e5"
      },
      "execution_count": 13,
      "outputs": [
        {
          "output_type": "stream",
          "name": "stdout",
          "text": [
            "Accuracy: 0.9118\n",
            "Precision: 0.9163\n",
            "Recall: 0.9118\n",
            "F1 Score: 0.9124\n"
          ]
        }
      ]
    },
    {
      "cell_type": "code",
      "source": [
        "!pip install tensorflow-model-optimization"
      ],
      "metadata": {
        "colab": {
          "base_uri": "https://localhost:8080/"
        },
        "id": "Yw9RrfReF5j8",
        "outputId": "956f6f5d-46ad-4026-fabe-f9f8ad38f2d0"
      },
      "execution_count": 5,
      "outputs": [
        {
          "output_type": "stream",
          "name": "stdout",
          "text": [
            "Looking in indexes: https://pypi.org/simple, https://us-python.pkg.dev/colab-wheels/public/simple/\n",
            "Collecting tensorflow-model-optimization\n",
            "  Downloading tensorflow_model_optimization-0.7.3-py2.py3-none-any.whl (238 kB)\n",
            "\u001b[K     |████████████████████████████████| 238 kB 4.7 MB/s \n",
            "\u001b[?25hRequirement already satisfied: numpy~=1.14 in /usr/local/lib/python3.7/dist-packages (from tensorflow-model-optimization) (1.21.6)\n",
            "Requirement already satisfied: dm-tree~=0.1.1 in /usr/local/lib/python3.7/dist-packages (from tensorflow-model-optimization) (0.1.7)\n",
            "Requirement already satisfied: six~=1.10 in /usr/local/lib/python3.7/dist-packages (from tensorflow-model-optimization) (1.15.0)\n",
            "Installing collected packages: tensorflow-model-optimization\n",
            "Successfully installed tensorflow-model-optimization-0.7.3\n"
          ]
        }
      ]
    },
    {
      "cell_type": "code",
      "source": [
        "import tensorflow_model_optimization as tfmot"
      ],
      "metadata": {
        "id": "4rSBbQFHFrt6"
      },
      "execution_count": 13,
      "outputs": []
    },
    {
      "cell_type": "code",
      "source": [
        "prune_low_magnitude = tfmot.sparsity.keras.prune_low_magnitude"
      ],
      "metadata": {
        "id": "dOCuJ7HzFzcI"
      },
      "execution_count": 14,
      "outputs": []
    },
    {
      "cell_type": "code",
      "source": [
        "batch_size = 32\n",
        "epochs = 25\n",
        "validation_split = 0.1 # 10% of training set will be used for validation set. \n",
        "\n",
        "num_images = X_train.shape[0] * (1 - validation_split)\n",
        "end_step = np.ceil(num_images / batch_size).astype(np.int32) * epochs"
      ],
      "metadata": {
        "id": "-WEHK0BrGCYk"
      },
      "execution_count": 15,
      "outputs": []
    },
    {
      "cell_type": "code",
      "source": [
        "# Define model for pruning.\n",
        "pruning_params = {\n",
        "      'pruning_schedule': tfmot.sparsity.keras.PolynomialDecay(initial_sparsity=0.60,\n",
        "                                                               final_sparsity=0.80,\n",
        "                                                               begin_step=0,\n",
        "                                                               end_step=end_step)\n",
        "}"
      ],
      "metadata": {
        "id": "nxkh7mI7GhD4"
      },
      "execution_count": 16,
      "outputs": []
    },
    {
      "cell_type": "code",
      "source": [
        "model_for_pruning = prune_low_magnitude(model, **pruning_params)\n",
        "\n",
        "# `prune_low_magnitude` requires a recompile.\n",
        "optim = tf.keras.optimizers.Adam(learning_rate=0.0007)\n",
        "model_for_pruning.compile(optimizer=optim,\n",
        "              loss=tf.keras.losses.CategoricalCrossentropy(from_logits=True),\n",
        "              metrics=['accuracy'])\n",
        "\n",
        "model_for_pruning.summary()"
      ],
      "metadata": {
        "colab": {
          "base_uri": "https://localhost:8080/"
        },
        "id": "qO8mtMUOGjZk",
        "outputId": "45e0deea-7a2f-4035-99c7-7da868d35ece"
      },
      "execution_count": 17,
      "outputs": [
        {
          "output_type": "stream",
          "name": "stdout",
          "text": [
            "Model: \"model\"\n",
            "_________________________________________________________________\n",
            " Layer (type)                Output Shape              Param #   \n",
            "=================================================================\n",
            " input_2 (InputLayer)        [(None, 96, 96, 3)]       0         \n",
            "                                                                 \n",
            " mobilenetv2_1.00_96 (Functi  (None, 1280)             4383709   \n",
            " onal)                                                           \n",
            "                                                                 \n",
            " prune_low_magnitude_dropout  (None, 1280)             1         \n",
            "  (PruneLowMagnitude)                                            \n",
            "                                                                 \n",
            " prune_low_magnitude_dense (  (None, 10)               25612     \n",
            " PruneLowMagnitude)                                              \n",
            "                                                                 \n",
            "=================================================================\n",
            "Total params: 4,409,322\n",
            "Trainable params: 2,236,682\n",
            "Non-trainable params: 2,172,640\n",
            "_________________________________________________________________\n"
          ]
        }
      ]
    },
    {
      "cell_type": "code",
      "source": [
        "logdir = 'logs/'\n",
        "callbacks = [\n",
        "  tfmot.sparsity.keras.UpdatePruningStep(),\n",
        "  tfmot.sparsity.keras.PruningSummaries(log_dir=logdir),\n",
        "]\n",
        "model_for_pruning\n",
        "train_steps_per_epoch = X_train.shape[0] // BATCH_SIZE\n",
        "val_steps_per_epoch = X_val.shape[0] // BATCH_SIZE\n",
        "\n",
        "history_pruned = model_for_pruning.fit_generator(train_generator,\n",
        "                              steps_per_epoch=train_steps_per_epoch,\n",
        "                              validation_data=val_generator,\n",
        "                              validation_steps=val_steps_per_epoch,\n",
        "                              epochs=epochs,callbacks=callbacks)\n",
        "# model_for_pruning.fit(X_train, Y_train,\n",
        "#                   batch_size=batch_size, epochs=epochs, validation_split=validation_split,\n",
        "#                   callbacks=callbacks)"
      ],
      "metadata": {
        "colab": {
          "base_uri": "https://localhost:8080/"
        },
        "id": "QRrTwYJ1Glid",
        "outputId": "a94f0ad3-2906-4a40-a169-c20471b82c07"
      },
      "execution_count": null,
      "outputs": [
        {
          "output_type": "stream",
          "name": "stdout",
          "text": [
            "Epoch 1/25\n",
            "   6/1328 [..............................] - ETA: 1:51 - loss: 0.2380 - accuracy: 0.9062"
          ]
        },
        {
          "output_type": "stream",
          "name": "stderr",
          "text": [
            "WARNING:tensorflow:Callback method `on_train_batch_end` is slow compared to the batch time (batch time: 0.0632s vs `on_train_batch_end` time: 0.1537s). Check your callbacks.\n"
          ]
        },
        {
          "output_type": "stream",
          "name": "stdout",
          "text": [
            "1328/1328 [==============================] - 166s 90ms/step - loss: 0.4472 - accuracy: 0.8525 - val_loss: 3.6564 - val_accuracy: 0.3869\n",
            "Epoch 2/25\n",
            "1328/1328 [==============================] - 116s 87ms/step - loss: 0.2902 - accuracy: 0.9020 - val_loss: 1.6689 - val_accuracy: 0.6311\n",
            "Epoch 3/25\n",
            "1328/1328 [==============================] - 117s 88ms/step - loss: 0.2311 - accuracy: 0.9207 - val_loss: 2.9540 - val_accuracy: 0.4606\n",
            "Epoch 4/25\n",
            "1328/1328 [==============================] - 115s 86ms/step - loss: 0.1963 - accuracy: 0.9327 - val_loss: 1.3672 - val_accuracy: 0.7237\n",
            "Epoch 5/25\n",
            "1328/1328 [==============================] - 115s 87ms/step - loss: 0.1641 - accuracy: 0.9433 - val_loss: 2.3911 - val_accuracy: 0.5040\n",
            "Epoch 6/25\n",
            "1328/1328 [==============================] - 116s 87ms/step - loss: 0.1412 - accuracy: 0.9516 - val_loss: 1.0450 - val_accuracy: 0.7640\n",
            "Epoch 7/25\n",
            "1328/1328 [==============================] - 116s 87ms/step - loss: 0.1328 - accuracy: 0.9541 - val_loss: 0.7499 - val_accuracy: 0.8212\n",
            "Epoch 8/25\n",
            "1328/1328 [==============================] - 119s 89ms/step - loss: 0.1152 - accuracy: 0.9609 - val_loss: 0.9035 - val_accuracy: 0.7783\n",
            "Epoch 9/25\n",
            "1328/1328 [==============================] - 117s 88ms/step - loss: 0.1031 - accuracy: 0.9647 - val_loss: 0.8031 - val_accuracy: 0.8019\n",
            "Epoch 10/25\n",
            "1328/1328 [==============================] - 114s 86ms/step - loss: 0.0927 - accuracy: 0.9683 - val_loss: 0.8701 - val_accuracy: 0.8073\n",
            "Epoch 11/25\n",
            "1328/1328 [==============================] - 116s 87ms/step - loss: 0.0867 - accuracy: 0.9717 - val_loss: 0.6793 - val_accuracy: 0.8392\n",
            "Epoch 12/25\n",
            "1328/1328 [==============================] - 114s 86ms/step - loss: 0.0745 - accuracy: 0.9745 - val_loss: 0.6608 - val_accuracy: 0.8371\n",
            "Epoch 13/25\n",
            "1328/1328 [==============================] - 120s 90ms/step - loss: 0.0735 - accuracy: 0.9749 - val_loss: 1.1217 - val_accuracy: 0.7759\n",
            "Epoch 14/25\n",
            "1328/1328 [==============================] - 115s 87ms/step - loss: 0.0663 - accuracy: 0.9770 - val_loss: 0.6337 - val_accuracy: 0.8598\n",
            "Epoch 15/25\n",
            "1328/1328 [==============================] - 118s 89ms/step - loss: 0.0591 - accuracy: 0.9795 - val_loss: 0.6034 - val_accuracy: 0.8669\n",
            "Epoch 16/25\n",
            "1328/1328 [==============================] - 115s 87ms/step - loss: 0.0615 - accuracy: 0.9787 - val_loss: 0.7525 - val_accuracy: 0.8488\n",
            "Epoch 17/25\n",
            "1328/1328 [==============================] - 113s 85ms/step - loss: 0.0542 - accuracy: 0.9815 - val_loss: 0.8227 - val_accuracy: 0.8431\n",
            "Epoch 18/25\n",
            "1328/1328 [==============================] - 115s 86ms/step - loss: 0.0587 - accuracy: 0.9803 - val_loss: 0.7708 - val_accuracy: 0.8454\n",
            "Epoch 19/25\n",
            "1328/1328 [==============================] - 118s 89ms/step - loss: 0.0467 - accuracy: 0.9838 - val_loss: 0.6641 - val_accuracy: 0.8622\n",
            "Epoch 20/25\n",
            "1328/1328 [==============================] - 119s 89ms/step - loss: 0.0438 - accuracy: 0.9847 - val_loss: 0.6350 - val_accuracy: 0.8707\n",
            "Epoch 21/25\n",
            "1328/1328 [==============================] - 119s 90ms/step - loss: 0.0468 - accuracy: 0.9838 - val_loss: 0.5837 - val_accuracy: 0.8745\n",
            "Epoch 22/25\n",
            "1328/1328 [==============================] - 115s 86ms/step - loss: 0.0389 - accuracy: 0.9870 - val_loss: 0.5420 - val_accuracy: 0.8920\n",
            "Epoch 23/25\n",
            " 662/1328 [=============>................] - ETA: 56s - loss: 0.0405 - accuracy: 0.9865"
          ]
        }
      ]
    },
    {
      "cell_type": "code",
      "source": [
        "history_pruned = model_for_pruning.fit_generator(train_generator,\n",
        "                              steps_per_epoch=train_steps_per_epoch,\n",
        "                              validation_data=val_generator,\n",
        "                              validation_steps=val_steps_per_epoch,\n",
        "                              epochs=20,callbacks=callbacks)"
      ],
      "metadata": {
        "colab": {
          "base_uri": "https://localhost:8080/"
        },
        "id": "P3VyPIWSlnau",
        "outputId": "a42b72b9-44da-4b2f-d8a9-a9e94ee30b7d"
      },
      "execution_count": 21,
      "outputs": [
        {
          "output_type": "stream",
          "name": "stdout",
          "text": [
            "Epoch 1/20\n",
            "   6/1328 [..............................] - ETA: 2:29 - loss: 0.1949 - accuracy: 0.9271"
          ]
        },
        {
          "output_type": "stream",
          "name": "stderr",
          "text": [
            "WARNING:tensorflow:Callback method `on_train_batch_end` is slow compared to the batch time (batch time: 0.0757s vs `on_train_batch_end` time: 0.1647s). Check your callbacks.\n"
          ]
        },
        {
          "output_type": "stream",
          "name": "stdout",
          "text": [
            "1328/1328 [==============================] - 133s 99ms/step - loss: 0.1939 - accuracy: 0.9370 - val_loss: 0.5514 - val_accuracy: 0.8486\n",
            "Epoch 2/20\n",
            "1328/1328 [==============================] - 132s 99ms/step - loss: 0.1732 - accuracy: 0.9428 - val_loss: 0.5552 - val_accuracy: 0.8416\n",
            "Epoch 3/20\n",
            "1328/1328 [==============================] - 129s 97ms/step - loss: 0.1489 - accuracy: 0.9504 - val_loss: 0.6258 - val_accuracy: 0.8396\n",
            "Epoch 4/20\n",
            "1328/1328 [==============================] - 127s 96ms/step - loss: 0.1411 - accuracy: 0.9541 - val_loss: 1.0798 - val_accuracy: 0.7732\n",
            "Epoch 5/20\n",
            "1328/1328 [==============================] - 126s 95ms/step - loss: 0.1349 - accuracy: 0.9573 - val_loss: 0.6183 - val_accuracy: 0.8440\n",
            "Epoch 6/20\n",
            "1328/1328 [==============================] - 121s 91ms/step - loss: 0.1245 - accuracy: 0.9603 - val_loss: 0.8107 - val_accuracy: 0.8255\n",
            "Epoch 7/20\n",
            "1328/1328 [==============================] - 123s 93ms/step - loss: 0.1067 - accuracy: 0.9661 - val_loss: 0.7667 - val_accuracy: 0.8408\n",
            "Epoch 8/20\n",
            "1328/1328 [==============================] - 125s 94ms/step - loss: 0.1094 - accuracy: 0.9658 - val_loss: 1.4829 - val_accuracy: 0.7305\n",
            "Epoch 9/20\n",
            "1328/1328 [==============================] - 125s 94ms/step - loss: 0.1062 - accuracy: 0.9665 - val_loss: 0.5557 - val_accuracy: 0.8787\n",
            "Epoch 10/20\n",
            "1328/1328 [==============================] - 121s 91ms/step - loss: 0.0849 - accuracy: 0.9720 - val_loss: 0.6600 - val_accuracy: 0.8564\n",
            "Epoch 11/20\n",
            "1328/1328 [==============================] - 125s 94ms/step - loss: 0.0950 - accuracy: 0.9708 - val_loss: 0.9995 - val_accuracy: 0.8140\n",
            "Epoch 12/20\n",
            "1328/1328 [==============================] - 124s 93ms/step - loss: 0.0886 - accuracy: 0.9707 - val_loss: 0.5257 - val_accuracy: 0.8834\n",
            "Epoch 13/20\n",
            "1328/1328 [==============================] - 122s 92ms/step - loss: 0.0848 - accuracy: 0.9727 - val_loss: 0.6705 - val_accuracy: 0.8634\n",
            "Epoch 14/20\n",
            "1328/1328 [==============================] - 122s 92ms/step - loss: 0.0838 - accuracy: 0.9730 - val_loss: 0.5840 - val_accuracy: 0.8701\n",
            "Epoch 15/20\n",
            "1328/1328 [==============================] - 122s 92ms/step - loss: 0.0747 - accuracy: 0.9761 - val_loss: 1.2883 - val_accuracy: 0.7913\n",
            "Epoch 16/20\n",
            "1328/1328 [==============================] - 124s 93ms/step - loss: 0.0874 - accuracy: 0.9725 - val_loss: 0.5623 - val_accuracy: 0.8738\n",
            "Epoch 17/20\n",
            "1328/1328 [==============================] - 120s 90ms/step - loss: 0.0641 - accuracy: 0.9788 - val_loss: 0.6729 - val_accuracy: 0.8618\n",
            "Epoch 18/20\n",
            "1328/1328 [==============================] - 122s 92ms/step - loss: 0.0687 - accuracy: 0.9781 - val_loss: 0.8123 - val_accuracy: 0.8384\n",
            "Epoch 19/20\n",
            "1328/1328 [==============================] - 122s 92ms/step - loss: 0.0894 - accuracy: 0.9730 - val_loss: 0.6608 - val_accuracy: 0.8554\n",
            "Epoch 20/20\n",
            "1328/1328 [==============================] - 124s 93ms/step - loss: 0.0619 - accuracy: 0.9806 - val_loss: 0.5502 - val_accuracy: 0.8881\n"
          ]
        }
      ]
    },
    {
      "cell_type": "code",
      "source": [
        "pruned_model = tfmot.sparsity.keras.strip_pruning(model_for_pruning)"
      ],
      "metadata": {
        "id": "Jc7sIXqMOw88"
      },
      "execution_count": 22,
      "outputs": []
    },
    {
      "cell_type": "code",
      "source": [
        "pruned_model.save(\"pruned_v2.h5\")"
      ],
      "metadata": {
        "colab": {
          "base_uri": "https://localhost:8080/"
        },
        "id": "SSS1Q1CrhOh5",
        "outputId": "1e13286e-3591-4d1b-bf39-c304d8713991"
      },
      "execution_count": 23,
      "outputs": [
        {
          "output_type": "stream",
          "name": "stderr",
          "text": [
            "WARNING:tensorflow:Compiled the loaded model, but the compiled metrics have yet to be built. `model.compile_metrics` will be empty until you train or evaluate the model.\n"
          ]
        }
      ]
    },
    {
      "cell_type": "code",
      "source": [
        "pruned_model = tf.keras.models.load_model('pruned_v2.h5')"
      ],
      "metadata": {
        "colab": {
          "base_uri": "https://localhost:8080/"
        },
        "id": "iAlF-9JAwcso",
        "outputId": "56a4a6df-8421-4db5-91d2-8dbd21c406b2"
      },
      "execution_count": 9,
      "outputs": [
        {
          "output_type": "stream",
          "name": "stderr",
          "text": [
            "WARNING:tensorflow:No training configuration found in the save file, so the model was *not* compiled. Compile it manually.\n"
          ]
        }
      ]
    },
    {
      "cell_type": "code",
      "source": [
        "predictions = pruned_model.predict(X_test/255.)\n",
        "test_labels = list(y_test.squeeze())\n",
        "predictions = list(predictions.argmax(axis=1))\n",
        "get_metrics(true_labels=y_test, \n",
        "                predicted_labels=predictions)"
      ],
      "metadata": {
        "colab": {
          "base_uri": "https://localhost:8080/"
        },
        "id": "lfwAZWjXhUZG",
        "outputId": "fcf37533-0293-4d6d-dca2-e72e4b0a0431"
      },
      "execution_count": 12,
      "outputs": [
        {
          "output_type": "stream",
          "name": "stdout",
          "text": [
            "Accuracy: 0.8805\n",
            "Precision: 0.8887\n",
            "Recall: 0.8805\n",
            "F1 Score: 0.8824\n"
          ]
        }
      ]
    },
    {
      "cell_type": "code",
      "source": [
        "'''\n",
        "Pruned Model size = 10.1MB\n",
        "Default Model size = \n",
        "'''"
      ],
      "metadata": {
        "id": "vzYQbC-fhwez"
      },
      "execution_count": null,
      "outputs": []
    }
  ]
}